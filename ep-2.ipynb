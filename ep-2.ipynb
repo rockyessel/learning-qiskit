{
 "cells": [
  {
   "cell_type": "code",
   "execution_count": 7,
   "metadata": {},
   "outputs": [],
   "source": [
    "import qiskit"
   ]
  },
  {
   "cell_type": "code",
   "execution_count": 6,
   "metadata": {},
   "outputs": [
    {
     "data": {
      "text/plain": [
       "'1.2.4'"
      ]
     },
     "execution_count": 6,
     "metadata": {},
     "output_type": "execute_result"
    }
   ],
   "source": [
    "qiskit.__version__"
   ]
  },
  {
   "cell_type": "code",
   "execution_count": 24,
   "metadata": {},
   "outputs": [],
   "source": [
    "from qiskit_ibm_runtime import QiskitRuntimeService, SamplerV2 as Sampler\n",
    "from qiskit import QuantumCircuit\n",
    "\n",
    "service = QiskitRuntimeService(\n",
    "    channel=\"ibm_quantum\",\n",
    "    token=\"52ffeb9ce8d2dd2c95135f8c631ce221c96c3780dc9710e44ca74a882eccc374ef0de3e2888355c09d5a883019f3a3f217047d0c2b88a1b16945789b22fff0bc\"\n",
    "    )"
   ]
  },
  {
   "cell_type": "code",
   "execution_count": 25,
   "metadata": {},
   "outputs": [],
   "source": [
    "QiskitRuntimeService.save_account(\n",
    "    channel=\"ibm_quantum\",\n",
    "    token=\"52ffeb9ce8d2dd2c95135f8c631ce221c96c3780dc9710e44ca74a882eccc374ef0de3e2888355c09d5a883019f3a3f217047d0c2b88a1b16945789b22fff0bc\",\n",
    "    set_as_default=True,\n",
    "    overwrite=True,\n",
    "    )"
   ]
  },
  {
   "cell_type": "code",
   "execution_count": 26,
   "metadata": {},
   "outputs": [],
   "source": [
    "backend = service.backend(\n",
    "    name = \"ibm_sherbrooke\"\n",
    "    )"
   ]
  },
  {
   "cell_type": "code",
   "execution_count": 27,
   "metadata": {},
   "outputs": [
    {
     "data": {
      "text/plain": [
       "127"
      ]
     },
     "execution_count": 27,
     "metadata": {},
     "output_type": "execute_result"
    }
   ],
   "source": [
    "backend.num_qubits"
   ]
  },
  {
   "cell_type": "code",
   "execution_count": 29,
   "metadata": {},
   "outputs": [],
   "source": [
    "# Create empty circuit\n",
    "example_circuit = QuantumCircuit(2)\n",
    "example_circuit.measure_all()"
   ]
  },
  {
   "cell_type": "code",
   "execution_count": 31,
   "metadata": {},
   "outputs": [
    {
     "name": "stdout",
     "output_type": "stream",
     "text": [
      "job id: cwv0cq2997wg008xsxkg\n",
      "PrimitiveResult([SamplerPubResult(data=DataBin(meas=BitArray(<shape=(), num_shots=4096, num_bits=2>)), metadata={'circuit_metadata': {}})], metadata={'execution': {'execution_spans': ExecutionSpans([SliceSpan(<start='2024-11-14 14:26:44', stop='2024-11-14 14:30:06', size=4096>)])}, 'version': 2})\n"
     ]
    }
   ],
   "source": [
    "circuit_backend = service.least_busy(operational=True, simulator=False)\n",
    "sampler = Sampler(circuit_backend)\n",
    "job = sampler.run([example_circuit])\n",
    "\n",
    "print(f\"job id: {job.job_id()}\")\n",
    "result = job.result()\n",
    "print(result)\n"
   ]
  }
 ],
 "metadata": {
  "kernelspec": {
   "display_name": "cwq",
   "language": "python",
   "name": "python3"
  },
  "language_info": {
   "codemirror_mode": {
    "name": "ipython",
    "version": 3
   },
   "file_extension": ".py",
   "mimetype": "text/x-python",
   "name": "python",
   "nbconvert_exporter": "python",
   "pygments_lexer": "ipython3",
   "version": "3.13.0"
  }
 },
 "nbformat": 4,
 "nbformat_minor": 2
}
